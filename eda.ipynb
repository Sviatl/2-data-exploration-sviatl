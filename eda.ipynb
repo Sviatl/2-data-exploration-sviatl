{
 "cells": [
  {
   "cell_type": "code",
   "execution_count": 1,
   "id": "b489cb9e",
   "metadata": {},
   "outputs": [],
   "source": [
    "import pandas as pd\n",
    "import numpy as np\n",
    "import matplotlib.pyplot as plt\n",
    "import seaborn as sns\n",
    "%matplotlib inline"
   ]
  },
  {
   "cell_type": "markdown",
   "id": "d07912a0",
   "metadata": {},
   "source": [
    "# Context"
   ]
  },
  {
   "cell_type": "code",
   "execution_count": 2,
   "id": "6b981d68",
   "metadata": {},
   "outputs": [
    {
     "name": "stdout",
     "output_type": "stream",
     "text": [
      "<class 'pandas.core.frame.DataFrame'>\n",
      "RangeIndex: 100000 entries, 0 to 99999\n",
      "Data columns (total 12 columns):\n",
      " #   Column       Non-Null Count   Dtype  \n",
      "---  ------       --------------   -----  \n",
      " 0   PassengerId  100000 non-null  int64  \n",
      " 1   Survived     100000 non-null  int64  \n",
      " 2   Pclass       100000 non-null  int64  \n",
      " 3   Name         100000 non-null  object \n",
      " 4   Sex          100000 non-null  object \n",
      " 5   Age          96708 non-null   float64\n",
      " 6   SibSp        100000 non-null  int64  \n",
      " 7   Parch        100000 non-null  int64  \n",
      " 8   Ticket       95377 non-null   object \n",
      " 9   Fare         99866 non-null   float64\n",
      " 10  Cabin        32134 non-null   object \n",
      " 11  Embarked     99750 non-null   object \n",
      "dtypes: float64(2), int64(5), object(5)\n",
      "memory usage: 7.2+ MB\n",
      "         PassengerId       Survived         Pclass           Age  \\\n",
      "count  100000.000000  100000.000000  100000.000000  96708.000000   \n",
      "mean    49999.500000       0.427740       2.106910     38.355472   \n",
      "std     28867.657797       0.494753       0.837727     18.313556   \n",
      "min         0.000000       0.000000       1.000000      0.080000   \n",
      "25%     24999.750000       0.000000       1.000000     25.000000   \n",
      "50%     49999.500000       0.000000       2.000000     39.000000   \n",
      "75%     74999.250000       1.000000       3.000000     53.000000   \n",
      "max     99999.000000       1.000000       3.000000     87.000000   \n",
      "\n",
      "               SibSp          Parch         Fare  \n",
      "count  100000.000000  100000.000000  99866.00000  \n",
      "mean        0.397690       0.454560     43.92933  \n",
      "std         0.862566       0.950076     69.58882  \n",
      "min         0.000000       0.000000      0.68000  \n",
      "25%         0.000000       0.000000     10.04000  \n",
      "50%         0.000000       0.000000     24.46000  \n",
      "75%         1.000000       1.000000     33.50000  \n",
      "max         8.000000       9.000000    744.66000  \n"
     ]
    },
    {
     "data": {
      "text/html": [
       "<div>\n",
       "<style scoped>\n",
       "    .dataframe tbody tr th:only-of-type {\n",
       "        vertical-align: middle;\n",
       "    }\n",
       "\n",
       "    .dataframe tbody tr th {\n",
       "        vertical-align: top;\n",
       "    }\n",
       "\n",
       "    .dataframe thead th {\n",
       "        text-align: right;\n",
       "    }\n",
       "</style>\n",
       "<table border=\"1\" class=\"dataframe\">\n",
       "  <thead>\n",
       "    <tr style=\"text-align: right;\">\n",
       "      <th></th>\n",
       "      <th>PassengerId</th>\n",
       "      <th>Survived</th>\n",
       "      <th>Pclass</th>\n",
       "      <th>Name</th>\n",
       "      <th>Sex</th>\n",
       "      <th>Age</th>\n",
       "      <th>SibSp</th>\n",
       "      <th>Parch</th>\n",
       "      <th>Ticket</th>\n",
       "      <th>Fare</th>\n",
       "      <th>Cabin</th>\n",
       "      <th>Embarked</th>\n",
       "    </tr>\n",
       "  </thead>\n",
       "  <tbody>\n",
       "    <tr>\n",
       "      <th>0</th>\n",
       "      <td>0</td>\n",
       "      <td>1</td>\n",
       "      <td>1</td>\n",
       "      <td>Oconnor, Frankie</td>\n",
       "      <td>male</td>\n",
       "      <td>NaN</td>\n",
       "      <td>2</td>\n",
       "      <td>0</td>\n",
       "      <td>209245</td>\n",
       "      <td>27.14</td>\n",
       "      <td>C12239</td>\n",
       "      <td>S</td>\n",
       "    </tr>\n",
       "    <tr>\n",
       "      <th>1</th>\n",
       "      <td>1</td>\n",
       "      <td>0</td>\n",
       "      <td>3</td>\n",
       "      <td>Bryan, Drew</td>\n",
       "      <td>male</td>\n",
       "      <td>NaN</td>\n",
       "      <td>0</td>\n",
       "      <td>0</td>\n",
       "      <td>27323</td>\n",
       "      <td>13.35</td>\n",
       "      <td>NaN</td>\n",
       "      <td>S</td>\n",
       "    </tr>\n",
       "    <tr>\n",
       "      <th>2</th>\n",
       "      <td>2</td>\n",
       "      <td>0</td>\n",
       "      <td>3</td>\n",
       "      <td>Owens, Kenneth</td>\n",
       "      <td>male</td>\n",
       "      <td>0.33</td>\n",
       "      <td>1</td>\n",
       "      <td>2</td>\n",
       "      <td>CA 457703</td>\n",
       "      <td>71.29</td>\n",
       "      <td>NaN</td>\n",
       "      <td>S</td>\n",
       "    </tr>\n",
       "    <tr>\n",
       "      <th>3</th>\n",
       "      <td>3</td>\n",
       "      <td>0</td>\n",
       "      <td>3</td>\n",
       "      <td>Kramer, James</td>\n",
       "      <td>male</td>\n",
       "      <td>19.00</td>\n",
       "      <td>0</td>\n",
       "      <td>0</td>\n",
       "      <td>A. 10866</td>\n",
       "      <td>13.04</td>\n",
       "      <td>NaN</td>\n",
       "      <td>S</td>\n",
       "    </tr>\n",
       "    <tr>\n",
       "      <th>4</th>\n",
       "      <td>4</td>\n",
       "      <td>1</td>\n",
       "      <td>3</td>\n",
       "      <td>Bond, Michael</td>\n",
       "      <td>male</td>\n",
       "      <td>25.00</td>\n",
       "      <td>0</td>\n",
       "      <td>0</td>\n",
       "      <td>427635</td>\n",
       "      <td>7.76</td>\n",
       "      <td>NaN</td>\n",
       "      <td>S</td>\n",
       "    </tr>\n",
       "  </tbody>\n",
       "</table>\n",
       "</div>"
      ],
      "text/plain": [
       "   PassengerId  Survived  Pclass              Name   Sex    Age  SibSp  Parch  \\\n",
       "0            0         1       1  Oconnor, Frankie  male    NaN      2      0   \n",
       "1            1         0       3       Bryan, Drew  male    NaN      0      0   \n",
       "2            2         0       3    Owens, Kenneth  male   0.33      1      2   \n",
       "3            3         0       3     Kramer, James  male  19.00      0      0   \n",
       "4            4         1       3     Bond, Michael  male  25.00      0      0   \n",
       "\n",
       "      Ticket   Fare   Cabin Embarked  \n",
       "0     209245  27.14  C12239        S  \n",
       "1      27323  13.35     NaN        S  \n",
       "2  CA 457703  71.29     NaN        S  \n",
       "3   A. 10866  13.04     NaN        S  \n",
       "4     427635   7.76     NaN        S  "
      ]
     },
     "execution_count": 2,
     "metadata": {},
     "output_type": "execute_result"
    }
   ],
   "source": [
    "train = pd.read_csv('train.csv')\n",
    "train.info()\n",
    "print(train.describe())\n",
    "train.head()"
   ]
  },
  {
   "cell_type": "markdown",
   "id": "9b4320c6",
   "metadata": {},
   "source": [
    "# Data quality assessment"
   ]
  },
  {
   "cell_type": "code",
   "execution_count": 3,
   "id": "e443ca82",
   "metadata": {},
   "outputs": [
    {
     "name": "stdout",
     "output_type": "stream",
     "text": [
      "PassengerId        0\n",
      "Survived           0\n",
      "Pclass             0\n",
      "Name               0\n",
      "Sex                0\n",
      "Age             3292\n",
      "SibSp              0\n",
      "Parch              0\n",
      "Ticket          4623\n",
      "Fare             134\n",
      "Cabin          67866\n",
      "Embarked         250\n",
      "dtype: int64\n",
      "\n",
      "PassengerId - 0.0%\n",
      "Survived - 0.0%\n",
      "Pclass - 0.0%\n",
      "Name - 0.0%\n",
      "Sex - 0.0%\n",
      "Age - 3.29%\n",
      "SibSp - 0.0%\n",
      "Parch - 0.0%\n",
      "Ticket - 4.62%\n",
      "Fare - 0.13%\n",
      "Cabin - 67.87%\n",
      "Embarked - 0.25%\n",
      "\n",
      "(100000, 11)\n",
      "(100000, 11)\n",
      "         PassengerId       Survived         Pclass           Age  \\\n",
      "count  100000.000000  100000.000000  100000.000000  100000.00000   \n",
      "mean    49999.500000       0.427740       2.106910      38.35149   \n",
      "std     28867.657797       0.494753       0.837727      18.03248   \n",
      "min         0.000000       0.000000       1.000000       0.08000   \n",
      "25%     24999.750000       0.000000       1.000000      25.00000   \n",
      "50%     49999.500000       0.000000       2.000000      39.00000   \n",
      "75%     74999.250000       1.000000       3.000000      53.00000   \n",
      "max     99999.000000       1.000000       3.000000      87.00000   \n",
      "\n",
      "               SibSp          Parch           Fare        SexNum  \\\n",
      "count  100000.000000  100000.000000  100000.000000  100000.00000   \n",
      "mean        0.397690       0.454560      43.929067       0.43886   \n",
      "std         0.862566       0.950076      69.552034       0.49625   \n",
      "min         0.000000       0.000000       0.680000       0.00000   \n",
      "25%         0.000000       0.000000      10.040000       0.00000   \n",
      "50%         0.000000       0.000000      24.470000       0.00000   \n",
      "75%         1.000000       1.000000      33.500000       1.00000   \n",
      "max         8.000000       9.000000     744.660000       1.00000   \n",
      "\n",
      "         EmbarkedNum  \n",
      "count  100000.000000  \n",
      "mean        0.330350  \n",
      "std         0.574197  \n",
      "min         0.000000  \n",
      "25%         0.000000  \n",
      "50%         0.000000  \n",
      "75%         1.000000  \n",
      "max         2.000000  \n"
     ]
    },
    {
     "data": {
      "image/png": "[encoded data removed]",
      "text/plain": [
       "<Figure size 864x504 with 1 Axes>"
      ]
     },
     "metadata": {
      "needs_background": "light"
     },
     "output_type": "display_data"
    },
    {
     "data": {
      "image/png": "[encoded data removed]",
      "text/plain": [
       "<Figure size 864x504 with 1 Axes>"
      ]
     },
     "metadata": {
      "needs_background": "light"
     },
     "output_type": "display_data"
    },
    {
     "data": {
      "image/png": "[encoded data removed]",
      "text/plain": [
       "<Figure size 864x504 with 1 Axes>"
      ]
     },
     "metadata": {
      "needs_background": "light"
     },
     "output_type": "display_data"
    }
   ],
   "source": [
    "# 1. Анализ незаполненных данных\n",
    "# 1.1. Количество незаполненных значений по столбцам\n",
    "print(train.isnull().sum())\n",
    "print()\n",
    "# 1.2. Процент незаполненных значений по столбцам\n",
    "for col in train.columns:\n",
    "    pct_missing = np.mean(train[col].isnull())\n",
    "    print('{} - {}%'.format(col, round(pct_missing*100,2)))\n",
    "print()\n",
    "# 1.3. График незаполненных значений по столбцам\n",
    "plt.figure(figsize=(12,7))\n",
    "sns.heatmap(train.isnull(),yticklabels=False,cbar=False,cmap='OrRd')\n",
    "# 1.4. Заполнение Age, Ticket, Fare, Embarked, Удаление Cabin\n",
    "def input_Age(cols):\n",
    "    Age = cols[0]\n",
    "    Pclass = cols[1]\n",
    "    if pd.isnull(Age):\n",
    "        if Pclass == 1:\n",
    "            return 45\n",
    "        elif Pclass == 2:\n",
    "            return 39\n",
    "        else:\n",
    "            return 33\n",
    "    return Age\n",
    "train['Age'] = train[['Age','Pclass']].apply(input_Age,axis=1)\n",
    "train['Ticket'] = train['Ticket'].fillna('000000')\n",
    "f1 = round(train[train['Pclass']==1]['Fare'].mean(),2)\n",
    "f2 = round(train[train['Pclass']==2]['Fare'].mean(),2)\n",
    "f3 = round(train[train['Pclass']==3]['Fare'].mean(),2)\n",
    "\n",
    "def input_Fare(cols, f1, f2, f3):\n",
    "    Fare = cols[0]\n",
    "    Pclass = cols[1]\n",
    "    if pd.isnull(Fare):\n",
    "        if Pclass == 1:\n",
    "            return f1\n",
    "        elif Pclass == 2:\n",
    "            return f2\n",
    "        else:\n",
    "            return f3\n",
    "    return Fare\n",
    "train['Fare'] = train[['Fare','Pclass']].apply(input_Fare,axis=1, args=[f1,f2,f3])\n",
    "\n",
    "def input_Embarked(col):\n",
    "    Em = col[0]\n",
    "    if pd.isnull(Em):\n",
    "        return 'S'\n",
    "    return Em\n",
    "train['Embarked'] = train[['Embarked','Pclass']].apply(input_Embarked,axis=1)\n",
    "train.drop('Cabin',axis=1,inplace=True)\n",
    "# Проверка\n",
    "plt.figure(figsize=(12,7))\n",
    "sns.heatmap(train.isnull(),yticklabels=False,cbar=False,cmap='OrRd')\n",
    "# 1.5. \n",
    "# 2. Выбросы\n",
    "plt.figure(figsize=(12,7))\n",
    "sns.boxplot(x='Pclass',y='Age',data=train,palette='winter')\n",
    "# Выбросов нет, в том числе после анализа describe()\n",
    "\n",
    "# 3. Дубли\n",
    "key = ['Ticket', 'Name','Age']\n",
    "train_dedupped = train.drop_duplicates(subset=key)\n",
    "print(train.shape)\n",
    "print(train_dedupped.shape)\n",
    "# Дубликатов по имени нет\n",
    "\n",
    "# 4. Перевод категориальных переменных в числовые\n",
    "# Пол\n",
    "def is_male(sex):\n",
    "    if sex == 'male':\n",
    "        return 0\n",
    "    else:\n",
    "        return 1\n",
    "# Порт отправления\n",
    "def em_in_num(Em):\n",
    "    if Em == 'S':\n",
    "        return 0\n",
    "    elif Em == 'C':\n",
    "        return 1\n",
    "    else:\n",
    "        return 2\n",
    "train['SexNum'] = train.apply(lambda x: is_male(x['Sex']), axis =  1)\n",
    "train['EmbarkedNum'] = train.apply(lambda x: em_in_num(x['Embarked']), axis =  1)\n",
    "print(train.describe())\n"
   ]
  },
  {
   "cell_type": "markdown",
   "id": "5408eca5",
   "metadata": {},
   "source": [
    "# Data exploration"
   ]
  },
  {
   "cell_type": "code",
   "execution_count": 6,
   "id": "2417286d",
   "metadata": {},
   "outputs": [
    {
     "name": "stdout",
     "output_type": "stream",
     "text": [
      "\n"
     ]
    },
    {
     "name": "stderr",
     "output_type": "stream",
     "text": [
      "c:\\users\\admin\\appdata\\local\\programs\\python\\python38-32\\lib\\site-packages\\seaborn\\distributions.py:2619: FutureWarning: `distplot` is a deprecated function and will be removed in a future version. Please adapt your code to use either `displot` (a figure-level function with similar flexibility) or `histplot` (an axes-level function for histograms).\n",
      "  warnings.warn(msg, FutureWarning)\n"
     ]
    },
    {
     "data": {
      "text/plain": [
       "<AxesSubplot:xlabel='Survived', ylabel='count'>"
      ]
     },
     "execution_count": 6,
     "metadata": {},
     "output_type": "execute_result"
    },
    {
     "data": {
      "image/png": "[encoded data removed]",
      "text/plain": [
       "<Figure size 432x288 with 1 Axes>"
      ]
     },
     "metadata": {},
     "output_type": "display_data"
    },
    {
     "data": {
      "image/png": "[encoded data removed]",
      "text/plain": [
       "<Figure size 576x432 with 1 Axes>"
      ]
     },
     "metadata": {},
     "output_type": "display_data"
    },
    {
     "data": {
      "image/png": "[encoded data removed]",
      "text/plain": [
       "<Figure size 576x432 with 1 Axes>"
      ]
     },
     "metadata": {},
     "output_type": "display_data"
    },
    {
     "data": {
      "image/png": "[encoded data removed]",
      "text/plain": [
       "<Figure size 576x432 with 1 Axes>"
      ]
     },
     "metadata": {},
     "output_type": "display_data"
    },
    {
     "data": {
      "image/png": "[encoded data removed]",
      "text/plain": [
       "<Figure size 576x432 with 1 Axes>"
      ]
     },
     "metadata": {},
     "output_type": "display_data"
    },
    {
     "data": {
      "image/png": "[encoded data removed]",
      "text/plain": [
       "<Figure size 576x432 with 1 Axes>"
      ]
     },
     "metadata": {},
     "output_type": "display_data"
    },
    {
     "data": {
      "image/png": "[encoded data removed]",
      "text/plain": [
       "<Figure size 576x288 with 1 Axes>"
      ]
     },
     "metadata": {},
     "output_type": "display_data"
    },
    {
     "data": {
      "image/png": "[encoded data removed]",
      "text/plain": [
       "<Figure size 576x432 with 1 Axes>"
      ]
     },
     "metadata": {},
     "output_type": "display_data"
    }
   ],
   "source": [
    "sns.set_style('whitegrid')\n",
    "sns.countplot(x='Survived',data=train); sns.countplot(x='Survived',hue='Sex', data=train,palette='RdBu_r')\n",
    "print()\n",
    "# sns.set_style('whitegrid')\n",
    "fig = plt.figure(figsize=(8, 6))\n",
    "sns.countplot(x='Survived',hue='Pclass', data=train,palette='rainbow')\n",
    "\n",
    "fig = plt.figure(figsize=(8, 6))\n",
    "sns.distplot(train['Age'].dropna(),kde=False,color='darkred',bins=40)\n",
    "\n",
    "fig = plt.figure(figsize=(8, 6))\n",
    "train['Age'].hist(bins=30,color='darkred',alpha=0.3)\n",
    "\n",
    "fig = plt.figure(figsize=(8, 6))\n",
    "sns.countplot(x='SibSp',data=train)\n",
    "\n",
    "fig = plt.figure(figsize=(8, 6))\n",
    "sns.countplot(x='Parch',data=train)\n",
    "\n",
    "fig = plt.figure(figsize=(8, 6))\n",
    "train['Fare'].hist(color='green',bins=40,figsize=(8,4))\n",
    "\n",
    "fig = plt.figure(figsize=(8, 6))\n",
    "sns.set_style('whitegrid')\n",
    "sns.countplot(x='Survived',hue='Embarked', data=train,palette='rainbow')"
   ]
  },
  {
   "cell_type": "markdown",
   "id": "034945c8",
   "metadata": {},
   "source": [
    "# Summary"
   ]
  },
  {
   "cell_type": "code",
   "execution_count": 5,
   "id": "72e3fb13",
   "metadata": {},
   "outputs": [],
   "source": [
    "# Из 100 тыс. человек выжило (%)\n",
    "# Выжило больше женщин (%), чем мужчин\n",
    "# Распределение по классам ()\n",
    "# Распределение по возрасту\n"
   ]
  }
 ],
 "metadata": {
  "kernelspec": {
   "display_name": "Python 3 (ipykernel)",
   "language": "python",
   "name": "python3"
  },
  "language_info": {
   "codemirror_mode": {
    "name": "ipython",
    "version": 3
   },
   "file_extension": ".py",
   "mimetype": "text/x-python",
   "name": "python",
   "nbconvert_exporter": "python",
   "pygments_lexer": "ipython3",
   "version": "3.8.10"
  },
  "toc": {
   "base_numbering": 1,
   "nav_menu": {},
   "number_sections": true,
   "sideBar": true,
   "skip_h1_title": false,
   "title_cell": "Table of Contents",
   "title_sidebar": "Contents",
   "toc_cell": false,
   "toc_position": {},
   "toc_section_display": true,
   "toc_window_display": false
  }
 },
 "nbformat": 4,
 "nbformat_minor": 5
}
