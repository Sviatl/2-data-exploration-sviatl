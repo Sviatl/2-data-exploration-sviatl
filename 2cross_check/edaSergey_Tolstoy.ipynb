{
 "cells": [
  {
   "cell_type": "markdown",
   "id": "9f930857",
   "metadata": {},
   "source": [
    "## 1. Import libraries"
   ]
  },
  {
   "cell_type": "code",
   "execution_count": 2,
   "id": "5075b842",
   "metadata": {
    "scrolled": true
   },
   "outputs": [],
   "source": [
    "import pandas as pd\n",
    "import numpy as np\n",
    "import seaborn as sns\n",
    "import matplotlib.pyplot as plt\n",
    "import warnings\n",
    "warnings.filterwarnings('ignore')\n",
    "plt.style.use(\"seaborn-whitegrid\")"
   ]
  },
  {
   "cell_type": "markdown",
   "id": "6c8bf226",
   "metadata": {},
   "source": [
    "## 2. Read data"
   ]
  },
  {
   "cell_type": "code",
   "execution_count": 3,
   "id": "a2564358",
   "metadata": {
    "scrolled": true
   },
   "outputs": [],
   "source": [
    "path = './data/train.csv'\n",
    "titanic_data = pd.read_csv(path)"
   ]
  },
  {
   "cell_type": "code",
   "execution_count": 4,
   "id": "d1f11801",
   "metadata": {},
   "outputs": [
    {
     "data": {
      "text/html": [
       "<div>\n",
       "<style scoped>\n",
       "    .dataframe tbody tr th:only-of-type {\n",
       "        vertical-align: middle;\n",
       "    }\n",
       "\n",
       "    .dataframe tbody tr th {\n",
       "        vertical-align: top;\n",
       "    }\n",
       "\n",
       "    .dataframe thead th {\n",
       "        text-align: right;\n",
       "    }\n",
       "</style>\n",
       "<table border=\"1\" class=\"dataframe\">\n",
       "  <thead>\n",
       "    <tr style=\"text-align: right;\">\n",
       "      <th></th>\n",
       "      <th>PassengerId</th>\n",
       "      <th>Survived</th>\n",
       "      <th>Pclass</th>\n",
       "      <th>Name</th>\n",
       "      <th>Sex</th>\n",
       "      <th>Age</th>\n",
       "      <th>SibSp</th>\n",
       "      <th>Parch</th>\n",
       "      <th>Ticket</th>\n",
       "      <th>Fare</th>\n",
       "      <th>Cabin</th>\n",
       "      <th>Embarked</th>\n",
       "    </tr>\n",
       "  </thead>\n",
       "  <tbody>\n",
       "    <tr>\n",
       "      <th>93506</th>\n",
       "      <td>93506</td>\n",
       "      <td>0</td>\n",
       "      <td>2</td>\n",
       "      <td>Wiese, Bill</td>\n",
       "      <td>male</td>\n",
       "      <td>NaN</td>\n",
       "      <td>0</td>\n",
       "      <td>0</td>\n",
       "      <td>324339</td>\n",
       "      <td>3.35</td>\n",
       "      <td>NaN</td>\n",
       "      <td>S</td>\n",
       "    </tr>\n",
       "    <tr>\n",
       "      <th>96464</th>\n",
       "      <td>96464</td>\n",
       "      <td>1</td>\n",
       "      <td>3</td>\n",
       "      <td>Wilt, Nancy</td>\n",
       "      <td>female</td>\n",
       "      <td>8.0</td>\n",
       "      <td>1</td>\n",
       "      <td>2</td>\n",
       "      <td>438490</td>\n",
       "      <td>12.51</td>\n",
       "      <td>NaN</td>\n",
       "      <td>S</td>\n",
       "    </tr>\n",
       "    <tr>\n",
       "      <th>86881</th>\n",
       "      <td>86881</td>\n",
       "      <td>0</td>\n",
       "      <td>3</td>\n",
       "      <td>Brown, Sandy</td>\n",
       "      <td>female</td>\n",
       "      <td>32.0</td>\n",
       "      <td>0</td>\n",
       "      <td>6</td>\n",
       "      <td>A. 298868</td>\n",
       "      <td>11.08</td>\n",
       "      <td>NaN</td>\n",
       "      <td>S</td>\n",
       "    </tr>\n",
       "    <tr>\n",
       "      <th>5644</th>\n",
       "      <td>5644</td>\n",
       "      <td>1</td>\n",
       "      <td>3</td>\n",
       "      <td>Long, Paula</td>\n",
       "      <td>female</td>\n",
       "      <td>21.0</td>\n",
       "      <td>0</td>\n",
       "      <td>0</td>\n",
       "      <td>NaN</td>\n",
       "      <td>12.11</td>\n",
       "      <td>NaN</td>\n",
       "      <td>S</td>\n",
       "    </tr>\n",
       "    <tr>\n",
       "      <th>2314</th>\n",
       "      <td>2314</td>\n",
       "      <td>0</td>\n",
       "      <td>3</td>\n",
       "      <td>Judy, Michael</td>\n",
       "      <td>male</td>\n",
       "      <td>32.0</td>\n",
       "      <td>3</td>\n",
       "      <td>0</td>\n",
       "      <td>66465</td>\n",
       "      <td>26.85</td>\n",
       "      <td>NaN</td>\n",
       "      <td>S</td>\n",
       "    </tr>\n",
       "  </tbody>\n",
       "</table>\n",
       "</div>"
      ],
      "text/plain": [
       "       PassengerId  Survived  Pclass           Name     Sex   Age  SibSp  \\\n",
       "93506        93506         0       2    Wiese, Bill    male   NaN      0   \n",
       "96464        96464         1       3    Wilt, Nancy  female   8.0      1   \n",
       "86881        86881         0       3   Brown, Sandy  female  32.0      0   \n",
       "5644          5644         1       3    Long, Paula  female  21.0      0   \n",
       "2314          2314         0       3  Judy, Michael    male  32.0      3   \n",
       "\n",
       "       Parch     Ticket   Fare Cabin Embarked  \n",
       "93506      0     324339   3.35   NaN        S  \n",
       "96464      2     438490  12.51   NaN        S  \n",
       "86881      6  A. 298868  11.08   NaN        S  \n",
       "5644       0        NaN  12.11   NaN        S  \n",
       "2314       0      66465  26.85   NaN        S  "
      ]
     },
     "execution_count": 4,
     "metadata": {},
     "output_type": "execute_result"
    }
   ],
   "source": [
    "titanic_data.sample(5)"
   ]
  },
  {
   "cell_type": "markdown",
   "id": "8837c24f",
   "metadata": {},
   "source": [
    "# Context"
   ]
  },
  {
   "cell_type": "markdown",
   "id": "81ef923c",
   "metadata": {},
   "source": [
    "A synthetic Titanic dataset based on a real dataset and generated using a CTGAN is given. The __goal__ is to do Exploratory Data Analysis (EDA) on synthetic Titanic dataset. "
   ]
  },
  {
   "cell_type": "markdown",
   "id": "0673620c",
   "metadata": {},
   "source": [
    "__Variable Description__\n",
    "1. PassengerId: unique id number to each passenger\n",
    "2. Survived: Passenger survived(1) or died(0)\n",
    "3. Pclass: Ticket class (1st = Upper, 2nd = Middle, 3rd = Lower)\n",
    "4. Name: Name\n",
    "5. Sex: Gender of passenger\n",
    "6. Age: Age in years\n",
    "7. SibSp: # of siblings / spouses aboard the Titanic\n",
    "8. Parch: # of parents / children aboard the Titanic\n",
    "9. Ticket: Ticket number\n",
    "10. Fare: Passenger fare\n",
    "11. Cabin: Cabin number\n",
    "12. Embarked: Port where passenger embarked (C = Cherbourg, Q = Queenstown, S = Southampton)"
   ]
  },
  {
   "cell_type": "markdown",
   "id": "75628888",
   "metadata": {},
   "source": [
    "# Data quality assessment"
   ]
  },
  {
   "cell_type": "code",
   "execution_count": 5,
   "id": "8dacb46a",
   "metadata": {
    "scrolled": true
   },
   "outputs": [
    {
     "data": {
      "text/plain": [
       "(100000, 12)"
      ]
     },
     "execution_count": 5,
     "metadata": {},
     "output_type": "execute_result"
    }
   ],
   "source": [
    "titanic_data.shape"
   ]
  },
  {
   "cell_type": "code",
   "execution_count": 6,
   "id": "f496921e",
   "metadata": {},
   "outputs": [
    {
     "name": "stdout",
     "output_type": "stream",
     "text": [
      "<class 'pandas.core.frame.DataFrame'>\n",
      "RangeIndex: 100000 entries, 0 to 99999\n",
      "Data columns (total 12 columns):\n",
      " #   Column       Non-Null Count   Dtype  \n",
      "---  ------       --------------   -----  \n",
      " 0   PassengerId  100000 non-null  int64  \n",
      " 1   Survived     100000 non-null  int64  \n",
      " 2   Pclass       100000 non-null  int64  \n",
      " 3   Name         100000 non-null  object \n",
      " 4   Sex          100000 non-null  object \n",
      " 5   Age          96708 non-null   float64\n",
      " 6   SibSp        100000 non-null  int64  \n",
      " 7   Parch        100000 non-null  int64  \n",
      " 8   Ticket       95377 non-null   object \n",
      " 9   Fare         99866 non-null   float64\n",
      " 10  Cabin        32134 non-null   object \n",
      " 11  Embarked     99750 non-null   object \n",
      "dtypes: float64(2), int64(5), object(5)\n",
      "memory usage: 9.2+ MB\n"
     ]
    }
   ],
   "source": [
    "titanic_data.info()"
   ]
  },
  {
   "cell_type": "markdown",
   "id": "df1e8102",
   "metadata": {},
   "source": [
    "## Missing values"
   ]
  },
  {
   "cell_type": "code",
   "execution_count": 7,
   "id": "53e0f8fd",
   "metadata": {
    "scrolled": false
   },
   "outputs": [
    {
     "data": {
      "text/plain": [
       "PassengerId        0\n",
       "Survived           0\n",
       "Pclass             0\n",
       "Name               0\n",
       "Sex                0\n",
       "Age             3292\n",
       "SibSp              0\n",
       "Parch              0\n",
       "Ticket          4623\n",
       "Fare             134\n",
       "Cabin          67866\n",
       "Embarked         250\n",
       "dtype: int64"
      ]
     },
     "execution_count": 7,
     "metadata": {},
     "output_type": "execute_result"
    }
   ],
   "source": [
    "titanic_data.isnull().sum()"
   ]
  },
  {
   "cell_type": "markdown",
   "id": "91b24304",
   "metadata": {},
   "source": [
    "## Outliers"
   ]
  },
  {
   "cell_type": "code",
   "execution_count": 8,
   "id": "1d8e35b0",
   "metadata": {},
   "outputs": [
    {
     "data": {
      "image/png": "[encoded data removed]",
      "text/plain": [
       "<Figure size 1440x576 with 6 Axes>"
      ]
     },
     "metadata": {},
     "output_type": "display_data"
    }
   ],
   "source": [
    "f, axes = plt.subplots(3, 2, figsize=(20, 8))\n",
    "for ax, feature in zip(axes.flat, ['Survived', 'Pclass', 'Age', 'SibSp', 'Parch', 'Fare']):\n",
    "    sns.distplot(titanic_data[feature] , color=\"skyblue\", ax=ax)"
   ]
  },
  {
   "cell_type": "code",
   "execution_count": 9,
   "id": "4e261a70",
   "metadata": {},
   "outputs": [
    {
     "data": {
      "text/plain": [
       "<AxesSubplot:ylabel='Age'>"
      ]
     },
     "execution_count": 9,
     "metadata": {},
     "output_type": "execute_result"
    },
    {
     "data": {
      "image/png": "[encoded data removed]",
      "text/plain": [
       "<Figure size 432x288 with 1 Axes>"
      ]
     },
     "metadata": {},
     "output_type": "display_data"
    }
   ],
   "source": [
    "sns.boxplot(y='Age', data=titanic_data)"
   ]
  },
  {
   "cell_type": "code",
   "execution_count": 10,
   "id": "83042f6c",
   "metadata": {},
   "outputs": [
    {
     "data": {
      "text/plain": [
       "S    72139\n",
       "C    22187\n",
       "Q     5424\n",
       "Name: Embarked, dtype: int64"
      ]
     },
     "execution_count": 10,
     "metadata": {},
     "output_type": "execute_result"
    }
   ],
   "source": [
    "titanic_data.Embarked.value_counts()"
   ]
  },
  {
   "cell_type": "code",
   "execution_count": 11,
   "id": "bc943498",
   "metadata": {},
   "outputs": [
    {
     "data": {
      "text/plain": [
       "A/5             602\n",
       "C.A.            177\n",
       "SC/PARIS        145\n",
       "SOTON/O.Q.       80\n",
       "SC               57\n",
       "               ... \n",
       "421812            1\n",
       "PC 420601         1\n",
       "PC 26800          1\n",
       "STON/O 23755      1\n",
       "458074            1\n",
       "Name: Ticket, Length: 75331, dtype: int64"
      ]
     },
     "execution_count": 11,
     "metadata": {},
     "output_type": "execute_result"
    }
   ],
   "source": [
    "titanic_data.Ticket.value_counts()"
   ]
  },
  {
   "cell_type": "code",
   "execution_count": 12,
   "id": "6082d2bc",
   "metadata": {},
   "outputs": [
    {
     "data": {
      "text/plain": [
       "<AxesSubplot:xlabel='Pclass', ylabel='Fare'>"
      ]
     },
     "execution_count": 12,
     "metadata": {},
     "output_type": "execute_result"
    },
    {
     "data": {
      "image/png": "[encoded data removed]",
      "text/plain": [
       "<Figure size 432x288 with 1 Axes>"
      ]
     },
     "metadata": {},
     "output_type": "display_data"
    }
   ],
   "source": [
    "sns.boxplot(y='Fare', x='Pclass', data=titanic_data)"
   ]
  },
  {
   "cell_type": "code",
   "execution_count": 13,
   "id": "aabbeb94",
   "metadata": {},
   "outputs": [
    {
     "data": {
      "text/plain": [
       "<AxesSubplot:ylabel='Parch'>"
      ]
     },
     "execution_count": 13,
     "metadata": {},
     "output_type": "execute_result"
    },
    {
     "data": {
      "image/png": "[encoded data removed]",
      "text/plain": [
       "<Figure size 432x288 with 1 Axes>"
      ]
     },
     "metadata": {},
     "output_type": "display_data"
    }
   ],
   "source": [
    "sns.boxplot(y='Parch', data=titanic_data)"
   ]
  },
  {
   "cell_type": "code",
   "execution_count": 14,
   "id": "dc8a6d36",
   "metadata": {},
   "outputs": [
    {
     "data": {
      "text/plain": [
       "<AxesSubplot:ylabel='SibSp'>"
      ]
     },
     "execution_count": 14,
     "metadata": {},
     "output_type": "execute_result"
    },
    {
     "data": {
      "image/png": "[encoded data removed]",
      "text/plain": [
       "<Figure size 432x288 with 1 Axes>"
      ]
     },
     "metadata": {},
     "output_type": "display_data"
    }
   ],
   "source": [
    "sns.boxplot(y='SibSp', data=titanic_data)"
   ]
  },
  {
   "cell_type": "markdown",
   "id": "28ba4715",
   "metadata": {},
   "source": [
    "# Data exploration"
   ]
  },
  {
   "cell_type": "code",
   "execution_count": 15,
   "id": "6d41275c",
   "metadata": {},
   "outputs": [
    {
     "data": {
      "text/html": [
       "<div>\n",
       "<style scoped>\n",
       "    .dataframe tbody tr th:only-of-type {\n",
       "        vertical-align: middle;\n",
       "    }\n",
       "\n",
       "    .dataframe tbody tr th {\n",
       "        vertical-align: top;\n",
       "    }\n",
       "\n",
       "    .dataframe thead th {\n",
       "        text-align: right;\n",
       "    }\n",
       "</style>\n",
       "<table border=\"1\" class=\"dataframe\">\n",
       "  <thead>\n",
       "    <tr style=\"text-align: right;\">\n",
       "      <th></th>\n",
       "      <th>count</th>\n",
       "      <th>mean</th>\n",
       "      <th>std</th>\n",
       "      <th>min</th>\n",
       "      <th>25%</th>\n",
       "      <th>50%</th>\n",
       "      <th>75%</th>\n",
       "      <th>max</th>\n",
       "    </tr>\n",
       "  </thead>\n",
       "  <tbody>\n",
       "    <tr>\n",
       "      <th>PassengerId</th>\n",
       "      <td>100000.0</td>\n",
       "      <td>49999.500000</td>\n",
       "      <td>28867.657797</td>\n",
       "      <td>0.00</td>\n",
       "      <td>24999.75</td>\n",
       "      <td>49999.50</td>\n",
       "      <td>74999.25</td>\n",
       "      <td>99999.00</td>\n",
       "    </tr>\n",
       "    <tr>\n",
       "      <th>Survived</th>\n",
       "      <td>100000.0</td>\n",
       "      <td>0.427740</td>\n",
       "      <td>0.494753</td>\n",
       "      <td>0.00</td>\n",
       "      <td>0.00</td>\n",
       "      <td>0.00</td>\n",
       "      <td>1.00</td>\n",
       "      <td>1.00</td>\n",
       "    </tr>\n",
       "    <tr>\n",
       "      <th>Pclass</th>\n",
       "      <td>100000.0</td>\n",
       "      <td>2.106910</td>\n",
       "      <td>0.837727</td>\n",
       "      <td>1.00</td>\n",
       "      <td>1.00</td>\n",
       "      <td>2.00</td>\n",
       "      <td>3.00</td>\n",
       "      <td>3.00</td>\n",
       "    </tr>\n",
       "    <tr>\n",
       "      <th>Age</th>\n",
       "      <td>96708.0</td>\n",
       "      <td>38.355472</td>\n",
       "      <td>18.313556</td>\n",
       "      <td>0.08</td>\n",
       "      <td>25.00</td>\n",
       "      <td>39.00</td>\n",
       "      <td>53.00</td>\n",
       "      <td>87.00</td>\n",
       "    </tr>\n",
       "    <tr>\n",
       "      <th>SibSp</th>\n",
       "      <td>100000.0</td>\n",
       "      <td>0.397690</td>\n",
       "      <td>0.862566</td>\n",
       "      <td>0.00</td>\n",
       "      <td>0.00</td>\n",
       "      <td>0.00</td>\n",
       "      <td>1.00</td>\n",
       "      <td>8.00</td>\n",
       "    </tr>\n",
       "    <tr>\n",
       "      <th>Parch</th>\n",
       "      <td>100000.0</td>\n",
       "      <td>0.454560</td>\n",
       "      <td>0.950076</td>\n",
       "      <td>0.00</td>\n",
       "      <td>0.00</td>\n",
       "      <td>0.00</td>\n",
       "      <td>1.00</td>\n",
       "      <td>9.00</td>\n",
       "    </tr>\n",
       "    <tr>\n",
       "      <th>Fare</th>\n",
       "      <td>99866.0</td>\n",
       "      <td>43.929330</td>\n",
       "      <td>69.588820</td>\n",
       "      <td>0.68</td>\n",
       "      <td>10.04</td>\n",
       "      <td>24.46</td>\n",
       "      <td>33.50</td>\n",
       "      <td>744.66</td>\n",
       "    </tr>\n",
       "  </tbody>\n",
       "</table>\n",
       "</div>"
      ],
      "text/plain": [
       "                count          mean           std   min       25%       50%  \\\n",
       "PassengerId  100000.0  49999.500000  28867.657797  0.00  24999.75  49999.50   \n",
       "Survived     100000.0      0.427740      0.494753  0.00      0.00      0.00   \n",
       "Pclass       100000.0      2.106910      0.837727  1.00      1.00      2.00   \n",
       "Age           96708.0     38.355472     18.313556  0.08     25.00     39.00   \n",
       "SibSp        100000.0      0.397690      0.862566  0.00      0.00      0.00   \n",
       "Parch        100000.0      0.454560      0.950076  0.00      0.00      0.00   \n",
       "Fare          99866.0     43.929330     69.588820  0.68     10.04     24.46   \n",
       "\n",
       "                  75%       max  \n",
       "PassengerId  74999.25  99999.00  \n",
       "Survived         1.00      1.00  \n",
       "Pclass           3.00      3.00  \n",
       "Age             53.00     87.00  \n",
       "SibSp            1.00      8.00  \n",
       "Parch            1.00      9.00  \n",
       "Fare            33.50    744.66  "
      ]
     },
     "execution_count": 15,
     "metadata": {},
     "output_type": "execute_result"
    }
   ],
   "source": [
    "titanic_data.describe().T"
   ]
  },
  {
   "cell_type": "code",
   "execution_count": 16,
   "id": "82cad487",
   "metadata": {},
   "outputs": [
    {
     "data": {
      "image/png": "[encoded data removed]",
      "text/plain": [
       "<Figure size 360x360 with 1 Axes>"
      ]
     },
     "metadata": {},
     "output_type": "display_data"
    }
   ],
   "source": [
    "sns.catplot(x='Survived', kind='count', data=titanic_data)\n",
    "plt.show()"
   ]
  },
  {
   "cell_type": "code",
   "execution_count": 17,
   "id": "c4c51680",
   "metadata": {},
   "outputs": [
    {
     "name": "stdout",
     "output_type": "stream",
     "text": [
      "0.57226\n"
     ]
    }
   ],
   "source": [
    "print(1 - titanic_data.Survived.sum()/titanic_data.Survived.count())"
   ]
  },
  {
   "cell_type": "markdown",
   "id": "97282b56",
   "metadata": {},
   "source": [
    "This means that around 57% of the passengers died. Let's see how the survival rate depends on the gender of the passenger."
   ]
  },
  {
   "cell_type": "code",
   "execution_count": 18,
   "id": "c7b61e8f",
   "metadata": {},
   "outputs": [
    {
     "data": {
      "image/png": "[encoded data removed]",
      "text/plain": [
       "<Figure size 407x360 with 1 Axes>"
      ]
     },
     "metadata": {},
     "output_type": "display_data"
    }
   ],
   "source": [
    "sns.catplot(x='Sex', hue='Survived', kind='count', data=titanic_data)\n",
    "plt.show()"
   ]
  },
  {
   "cell_type": "code",
   "execution_count": 19,
   "id": "3bf3dd87",
   "metadata": {},
   "outputs": [
    {
     "name": "stdout",
     "output_type": "stream",
     "text": [
      "20.58% of men survived\n",
      "71.15% of women survived\n"
     ]
    }
   ],
   "source": [
    "print(f\"{round(titanic_data.Survived[titanic_data.Sex == 'male'].sum() / titanic_data.Survived[titanic_data.Sex == 'male'].count() * 100, 2)}% of men survived\")\n",
    "print(f\"{round(titanic_data.Survived[titanic_data.Sex == 'female'].sum() / titanic_data.Survived[titanic_data.Sex == 'female'].count() * 100, 2)}% of women survived\")"
   ]
  },
  {
   "cell_type": "code",
   "execution_count": 20,
   "id": "f0e44a77",
   "metadata": {},
   "outputs": [
    {
     "data": {
      "image/png": "[encoded data removed]",
      "text/plain": [
       "<Figure size 401.625x360 with 1 Axes>"
      ]
     },
     "metadata": {},
     "output_type": "display_data"
    }
   ],
   "source": [
    "sns.catplot(x='Survived', hue='Pclass', kind='count', data=titanic_data)\n",
    "plt.show()"
   ]
  },
  {
   "cell_type": "code",
   "execution_count": 21,
   "id": "15bf13a6",
   "metadata": {},
   "outputs": [
    {
     "data": {
      "text/html": [
       "<div>\n",
       "<style scoped>\n",
       "    .dataframe tbody tr th:only-of-type {\n",
       "        vertical-align: middle;\n",
       "    }\n",
       "\n",
       "    .dataframe tbody tr th {\n",
       "        vertical-align: top;\n",
       "    }\n",
       "\n",
       "    .dataframe thead th {\n",
       "        text-align: right;\n",
       "    }\n",
       "</style>\n",
       "<table border=\"1\" class=\"dataframe\">\n",
       "  <thead>\n",
       "    <tr style=\"text-align: right;\">\n",
       "      <th>Survived</th>\n",
       "      <th>0</th>\n",
       "      <th>1</th>\n",
       "      <th>All</th>\n",
       "    </tr>\n",
       "    <tr>\n",
       "      <th>Pclass</th>\n",
       "      <th></th>\n",
       "      <th></th>\n",
       "      <th></th>\n",
       "    </tr>\n",
       "  </thead>\n",
       "  <tbody>\n",
       "    <tr>\n",
       "      <th>1</th>\n",
       "      <td>12739</td>\n",
       "      <td>17576</td>\n",
       "      <td>30315</td>\n",
       "    </tr>\n",
       "    <tr>\n",
       "      <th>2</th>\n",
       "      <td>13622</td>\n",
       "      <td>15057</td>\n",
       "      <td>28679</td>\n",
       "    </tr>\n",
       "    <tr>\n",
       "      <th>3</th>\n",
       "      <td>30865</td>\n",
       "      <td>10141</td>\n",
       "      <td>41006</td>\n",
       "    </tr>\n",
       "    <tr>\n",
       "      <th>All</th>\n",
       "      <td>57226</td>\n",
       "      <td>42774</td>\n",
       "      <td>100000</td>\n",
       "    </tr>\n",
       "  </tbody>\n",
       "</table>\n",
       "</div>"
      ],
      "text/plain": [
       "Survived      0      1     All\n",
       "Pclass                        \n",
       "1         12739  17576   30315\n",
       "2         13622  15057   28679\n",
       "3         30865  10141   41006\n",
       "All       57226  42774  100000"
      ]
     },
     "execution_count": 21,
     "metadata": {},
     "output_type": "execute_result"
    }
   ],
   "source": [
    "pd.crosstab(titanic_data.Pclass, titanic_data.Survived, margins=True, normalize=False)"
   ]
  },
  {
   "cell_type": "markdown",
   "id": "56420c3e",
   "metadata": {},
   "source": [
    "What is the dependancy between Pclass and Survived:"
   ]
  },
  {
   "cell_type": "code",
   "execution_count": 22,
   "id": "42d228e3",
   "metadata": {},
   "outputs": [
    {
     "data": {
      "text/plain": [
       "<seaborn.axisgrid.FacetGrid at 0x27f2a5a72e0>"
      ]
     },
     "execution_count": 22,
     "metadata": {},
     "output_type": "execute_result"
    },
    {
     "data": {
      "image/png": "[encoded data removed]",
      "text/plain": [
       "<Figure size 413.625x360 with 1 Axes>"
      ]
     },
     "metadata": {},
     "output_type": "display_data"
    }
   ],
   "source": [
    "sns.catplot(x='Survived', hue='Embarked', kind='count', data=titanic_data)"
   ]
  },
  {
   "cell_type": "markdown",
   "id": "755c8c07",
   "metadata": {},
   "source": [
    "Also, it may be important to find the relationship between Pclass and the port where passengers boarded."
   ]
  },
  {
   "cell_type": "code",
   "execution_count": 23,
   "id": "56533b71",
   "metadata": {},
   "outputs": [
    {
     "data": {
      "text/html": [
       "<div>\n",
       "<style scoped>\n",
       "    .dataframe tbody tr th:only-of-type {\n",
       "        vertical-align: middle;\n",
       "    }\n",
       "\n",
       "    .dataframe tbody tr th {\n",
       "        vertical-align: top;\n",
       "    }\n",
       "\n",
       "    .dataframe thead th {\n",
       "        text-align: right;\n",
       "    }\n",
       "</style>\n",
       "<table border=\"1\" class=\"dataframe\">\n",
       "  <thead>\n",
       "    <tr style=\"text-align: right;\">\n",
       "      <th>Embarked</th>\n",
       "      <th>C</th>\n",
       "      <th>Q</th>\n",
       "      <th>S</th>\n",
       "      <th>All</th>\n",
       "    </tr>\n",
       "    <tr>\n",
       "      <th>Pclass</th>\n",
       "      <th></th>\n",
       "      <th></th>\n",
       "      <th></th>\n",
       "      <th></th>\n",
       "    </tr>\n",
       "  </thead>\n",
       "  <tbody>\n",
       "    <tr>\n",
       "      <th>1</th>\n",
       "      <td>11843</td>\n",
       "      <td>3751</td>\n",
       "      <td>14635</td>\n",
       "      <td>30229</td>\n",
       "    </tr>\n",
       "    <tr>\n",
       "      <th>2</th>\n",
       "      <td>6156</td>\n",
       "      <td>844</td>\n",
       "      <td>21609</td>\n",
       "      <td>28609</td>\n",
       "    </tr>\n",
       "    <tr>\n",
       "      <th>3</th>\n",
       "      <td>4188</td>\n",
       "      <td>829</td>\n",
       "      <td>35895</td>\n",
       "      <td>40912</td>\n",
       "    </tr>\n",
       "    <tr>\n",
       "      <th>All</th>\n",
       "      <td>22187</td>\n",
       "      <td>5424</td>\n",
       "      <td>72139</td>\n",
       "      <td>99750</td>\n",
       "    </tr>\n",
       "  </tbody>\n",
       "</table>\n",
       "</div>"
      ],
      "text/plain": [
       "Embarked      C     Q      S    All\n",
       "Pclass                             \n",
       "1         11843  3751  14635  30229\n",
       "2          6156   844  21609  28609\n",
       "3          4188   829  35895  40912\n",
       "All       22187  5424  72139  99750"
      ]
     },
     "execution_count": 23,
     "metadata": {},
     "output_type": "execute_result"
    }
   ],
   "source": [
    "pd.crosstab(titanic_data.Pclass, titanic_data.Embarked, margins=True, normalize=False)"
   ]
  },
  {
   "cell_type": "markdown",
   "id": "54b51fc4",
   "metadata": {},
   "source": [
    "We see that the largest number of people were in Southampton, and most of them are in the 3rd class. Passengers boarded in Cherbourg is more likely to be survived."
   ]
  },
  {
   "cell_type": "code",
   "execution_count": 24,
   "id": "e32536f2",
   "metadata": {},
   "outputs": [
    {
     "data": {
      "image/png": "[encoded data removed]",
      "text/plain": [
       "<Figure size 720x576 with 1 Axes>"
      ]
     },
     "metadata": {},
     "output_type": "display_data"
    }
   ],
   "source": [
    "plt.figure(figsize=(10,8))\n",
    "sns.violinplot(x='Sex', y='Age', hue='Survived', data=titanic_data, split=True)\n",
    "plt.show()"
   ]
  },
  {
   "cell_type": "code",
   "execution_count": 25,
   "id": "47cde8e3",
   "metadata": {},
   "outputs": [
    {
     "data": {
      "image/png": "[encoded data removed]",
      "text/plain": [
       "<Figure size 720x432 with 2 Axes>"
      ]
     },
     "metadata": {},
     "output_type": "display_data"
    }
   ],
   "source": [
    "plt.figure(figsize=(10, 6))\n",
    "sns.heatmap(titanic_data[['Age', 'SibSp', 'Parch', 'Fare', 'Survived']].corr(), vmin=-1, vmax=1, annot=True, cmap='BrBG')\n",
    "plt.show()"
   ]
  },
  {
   "cell_type": "markdown",
   "id": "802b469e",
   "metadata": {},
   "source": [
    "SibSp and Parchment correlate. What is the dependance between Parch/SibSP and Survived?"
   ]
  },
  {
   "cell_type": "code",
   "execution_count": 26,
   "id": "5bde92b7",
   "metadata": {},
   "outputs": [
    {
     "name": "stdout",
     "output_type": "stream",
     "text": [
      "Parch = 0: 0.40520805004079413\n",
      "Parch = 1: 0.5920283164050477\n",
      "Parch = 2: 0.38474546101815593\n",
      "Parch = 3: 0.4923702950152594\n",
      "Parch = 4: 0.28475336322869954\n",
      "Parch = 5: 0.5709969788519638\n",
      "Parch = 6: 0.20588235294117646\n",
      "Parch = 7: 0.4393939393939394\n"
     ]
    }
   ],
   "source": [
    "for i, el in enumerate(zip(titanic_data.groupby('Parch')['Survived'].sum().tolist(), titanic_data.groupby('Parch')['Survived'].count().tolist())):\n",
    "    print(f'Parch = {i}: {el[0]/el[1]}')"
   ]
  },
  {
   "cell_type": "code",
   "execution_count": 27,
   "id": "17113d36",
   "metadata": {},
   "outputs": [
    {
     "name": "stdout",
     "output_type": "stream",
     "text": [
      "SibSp = 0: 0.426842909368691\n",
      "SibSp = 1: 0.4337483550966697\n",
      "SibSp = 2: 0.45395625168782067\n",
      "SibSp = 3: 0.4\n",
      "SibSp = 4: 0.3758561643835616\n",
      "SibSp = 5: 0.1893939393939394\n",
      "SibSp = 6: 0.38513513513513514\n"
     ]
    }
   ],
   "source": [
    "for i, el in enumerate(zip(titanic_data.groupby('SibSp')['Survived'].sum().tolist(), titanic_data.groupby('SibSp')['Survived'].count().tolist())):\n",
    "    print(f'SibSp = {i}: {el[0]/el[1]}')"
   ]
  },
  {
   "cell_type": "markdown",
   "id": "876c9370",
   "metadata": {},
   "source": [
    "Let's create feature 1 and see how survival depends on the presence of relatives on board."
   ]
  },
  {
   "cell_type": "code",
   "execution_count": 28,
   "id": "d16d9bb3",
   "metadata": {},
   "outputs": [],
   "source": [
    "titanic_data['IsAlone'] = titanic_data.Parch + titanic_data.SibSp\n",
    "titanic_data.IsAlone.loc[titanic_data.IsAlone > 0] = 1\n",
    "titanic_data.IsAlone.loc[titanic_data.IsAlone == 0] = 0"
   ]
  },
  {
   "cell_type": "code",
   "execution_count": 29,
   "id": "8f16f9cc",
   "metadata": {},
   "outputs": [
    {
     "data": {
      "text/plain": [
       "<seaborn.axisgrid.FacetGrid at 0x27f29eee6a0>"
      ]
     },
     "execution_count": 29,
     "metadata": {},
     "output_type": "execute_result"
    },
    {
     "data": {
      "image/png": "[encoded data removed]",
      "text/plain": [
       "<Figure size 407x360 with 1 Axes>"
      ]
     },
     "metadata": {},
     "output_type": "display_data"
    }
   ],
   "source": [
    "sns.catplot(x='IsAlone', hue='Survived', kind='count', data=titanic_data)"
   ]
  },
  {
   "cell_type": "markdown",
   "id": "ee984c12",
   "metadata": {},
   "source": [
    "# Summary"
   ]
  },
  {
   "cell_type": "markdown",
   "id": "7a6ad5b0",
   "metadata": {},
   "source": [
    "Approaches to working with missing values:"
   ]
  },
  {
   "cell_type": "markdown",
   "id": "644f339b",
   "metadata": {},
   "source": [
    "1. Missing value in Age can be replaced by the median value.\n",
    "2. Ticket is likely not to be significant for determining the chances of survival.\n",
    "3. There are a lot of missing values in the Cabin column and also the location of the cabins on the ship is unknown, so it can be dropped.\n",
    "4. Missing values in Embarked can be replaced by the mode.\n",
    "5. Missing values in Fare can be replaced by the mean from the Pclass values."
   ]
  },
  {
   "cell_type": "raw",
   "id": "14b34984",
   "metadata": {},
   "source": [
    "# Replacing missing values in Age by the median\n",
    "titanic_data.Age.fillna(titanic_data.Age.median(), inplace = True)\n",
    "# Drop the Cabin and Ticket columns.\n",
    "titanic_data.drop(['Cabin', 'Ticket'], axis=1, inplace = True)\n",
    "# Replacing missing values in Embarked by the mode\n",
    "titanic_data.Embarked.fillna(titanic_data.Embarked.mode()[0], inplace=True)\n",
    "# Replacing missing values in Fare by the mean in the Pclass value\n",
    "titanic_data['Fare']=titanic_data['Fare'].fillna(titanic_data.groupby('Pclass')['Fare']\\\n",
    "                                                             .transform(lambda x: x.shift().expanding().mean()))"
   ]
  },
  {
   "cell_type": "markdown",
   "id": "ba837d4a",
   "metadata": {},
   "source": [
    "Approaches to working with outliers:"
   ]
  },
  {
   "cell_type": "markdown",
   "id": "5fc471d0",
   "metadata": {},
   "source": [
    "1. Outliers in Fare column can be raplaced with the mean fare in the Pclass.\n",
    "2. It may be more useful to create a new feature based on Parch and SibSp, which counts the total number of family members for each passenger and displays the presence of relatives on board."
   ]
  },
  {
   "cell_type": "markdown",
   "id": "7c1bfda0",
   "metadata": {},
   "source": [
    "Important notes:"
   ]
  },
  {
   "cell_type": "markdown",
   "id": "7467defd",
   "metadata": {
    "scrolled": true
   },
   "source": [
    "1. Women are more likely to survive than men.\n",
    "2. Survival rate decreases with Pclass."
   ]
  },
  {
   "cell_type": "code",
   "execution_count": 30,
   "id": "c099d3a1",
   "metadata": {},
   "outputs": [
    {
     "data": {
      "image/png": "[encoded data removed]",
      "text/plain": [
       "<Figure size 426.125x360 with 1 Axes>"
      ]
     },
     "metadata": {},
     "output_type": "display_data"
    }
   ],
   "source": [
    "sns.catplot('Pclass','Survived',hue='Sex', kind='point', data=titanic_data)\n",
    "plt.show()"
   ]
  },
  {
   "cell_type": "markdown",
   "id": "3d24a7d1",
   "metadata": {},
   "source": [
    "3. Survival rate is differernt for Embarked. Passenger with Embarked == C is more likely to be survived.\n",
    "4. The chances of survival are greater if relatives are on board of the ship.\n",
    "5. Most important features are Sex, Pclass, Embarked."
   ]
  },
  {
   "cell_type": "code",
   "execution_count": null,
   "id": "31450ff5",
   "metadata": {},
   "outputs": [],
   "source": []
  }
 ],
 "metadata": {
  "kernelspec": {
   "display_name": "Python 3 (ipykernel)",
   "language": "python",
   "name": "python3"
  },
  "language_info": {
   "codemirror_mode": {
    "name": "ipython",
    "version": 3
   },
   "file_extension": ".py",
   "mimetype": "text/x-python",
   "name": "python",
   "nbconvert_exporter": "python",
   "pygments_lexer": "ipython3",
   "version": "3.9.7"
  },
  "toc": {
   "base_numbering": 1,
   "nav_menu": {},
   "number_sections": true,
   "sideBar": true,
   "skip_h1_title": false,
   "title_cell": "Table of Contents",
   "title_sidebar": "Contents",
   "toc_cell": false,
   "toc_position": {},
   "toc_section_display": true,
   "toc_window_display": false
  }
 },
 "nbformat": 4,
 "nbformat_minor": 5
}
