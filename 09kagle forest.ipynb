{
 "cells": [
  {
   "cell_type": "code",
   "execution_count": 1,
   "id": "68414cb0",
   "metadata": {},
   "outputs": [],
   "source": [
    "from pathlib import Path\n",
    "from typing import Tuple\n",
    "\n",
    "import pandas as pd"
   ]
  },
  {
   "cell_type": "code",
   "execution_count": 5,
   "id": "da42cd37",
   "metadata": {},
   "outputs": [],
   "source": [
    "def get_dataset(csv_path: Path) -> Tuple[pd.DataFrame, pd.Series]:\n",
    "    dataset = pd.read_csv(csv_path)\n",
    "    features = dataset.drop([\"Cover_Type\",\"Id\"], axis=1)\n",
    "    target = dataset[\"Cover_Type\"]\n",
    "    return features,target"
   ]
  },
  {
   "cell_type": "code",
   "execution_count": 6,
   "id": "d1ef7d48",
   "metadata": {},
   "outputs": [],
   "source": [
    "ppp = \"data/train.csv\"\n",
    "features,target = get_dataset(ppp) "
   ]
  },
  {
   "cell_type": "code",
   "execution_count": 10,
   "id": "6f107465",
   "metadata": {},
   "outputs": [],
   "source": [
    "from sklearn.pipeline import Pipeline\n",
    "from sklearn.preprocessing import StandardScaler\n",
    "from sklearn.ensemble import GradientBoostingClassifier"
   ]
  },
  {
   "cell_type": "code",
   "execution_count": 11,
   "id": "c08417b6",
   "metadata": {},
   "outputs": [],
   "source": [
    "def create_pipeline(use_scaler,model) -> Pipeline:\n",
    "    pipeline_steps = []\n",
    "    if use_scaler:\n",
    "        pipeline_steps.append((\"scaler\", StandardScaler()))\n",
    "    pipeline_steps.append((\"classifier\",model))\n",
    "    return Pipeline(steps=pipeline_steps)"
   ]
  },
  {
   "cell_type": "code",
   "execution_count": 12,
   "id": "4e7de672",
   "metadata": {},
   "outputs": [],
   "source": [
    "X = pd.read_csv('data/test.csv')"
   ]
  },
  {
   "cell_type": "code",
   "execution_count": 13,
   "id": "1faa34fe",
   "metadata": {},
   "outputs": [],
   "source": [
    "model = GradientBoostingClassifier(max_depth=9, n_estimators=400)"
   ]
  },
  {
   "cell_type": "code",
   "execution_count": 14,
   "id": "df909ad1",
   "metadata": {},
   "outputs": [
    {
     "data": {
      "text/plain": [
       "GradientBoostingClassifier(max_depth=9, n_estimators=400)"
      ]
     },
     "execution_count": 14,
     "metadata": {},
     "output_type": "execute_result"
    }
   ],
   "source": [
    "model.fit(features, target)"
   ]
  },
  {
   "cell_type": "code",
   "execution_count": 16,
   "id": "4f1e5d7f",
   "metadata": {},
   "outputs": [],
   "source": [
    "X = X.drop(\"Id\", axis=1)"
   ]
  },
  {
   "cell_type": "code",
   "execution_count": 17,
   "id": "c2ddee92",
   "metadata": {},
   "outputs": [],
   "source": [
    "predictions = model.predict(X);"
   ]
  },
  {
   "cell_type": "code",
   "execution_count": 18,
   "id": "088ac439",
   "metadata": {},
   "outputs": [],
   "source": [
    "submission = pd.read_csv('data/sampleSubmission.csv')\n",
    "submission[\"Cover_Type\"] = predictions\n",
    "submission[[\"Id\", \"Cover_Type\"]].to_csv('data/submission.csv', index=False)"
   ]
  },
  {
   "cell_type": "code",
   "execution_count": null,
   "id": "6e91a93b",
   "metadata": {},
   "outputs": [],
   "source": []
  }
 ],
 "metadata": {
  "kernelspec": {
   "display_name": "Python 3 (ipykernel)",
   "language": "python",
   "name": "python3"
  },
  "language_info": {
   "codemirror_mode": {
    "name": "ipython",
    "version": 3
   },
   "file_extension": ".py",
   "mimetype": "text/x-python",
   "name": "python",
   "nbconvert_exporter": "python",
   "pygments_lexer": "ipython3",
   "version": "3.10.2"
  }
 },
 "nbformat": 4,
 "nbformat_minor": 5
}
