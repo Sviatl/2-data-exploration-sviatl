{
 "cells": [
  {
   "cell_type": "code",
   "execution_count": null,
   "id": "68414cb0",
   "metadata": {},
   "outputs": [],
   "source": []
  },
  {
   "cell_type": "code",
   "execution_count": null,
   "id": "088ac439",
   "metadata": {},
   "outputs": [],
   "source": [
    "X = pd.read_csv('data/test.csv')\n",
    "pipeline.fit(features, target)\n",
    "predictions = pipeline.predict(X)\n",
    "submission = pd.read_csv('data/sampleSubmission.csv')\n",
    "submission[\"Cover_Type\"] = predictions\n",
    "submission[[\"Id\", \"Cover_Type\"]].to_csv('data/submission.csv', index=False)"
   ]
  }
 ],
 "metadata": {
  "kernelspec": {
   "display_name": "Python 3 (ipykernel)",
   "language": "python",
   "name": "python3"
  },
  "language_info": {
   "codemirror_mode": {
    "name": "ipython",
    "version": 3
   },
   "file_extension": ".py",
   "mimetype": "text/x-python",
   "name": "python",
   "nbconvert_exporter": "python",
   "pygments_lexer": "ipython3",
   "version": "3.8.10"
  }
 },
 "nbformat": 4,
 "nbformat_minor": 5
}
